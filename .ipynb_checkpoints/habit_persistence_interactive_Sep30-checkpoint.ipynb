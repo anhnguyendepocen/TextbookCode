{
 "cells": [
  {
   "cell_type": "markdown",
   "metadata": {},
   "source": [
    "# Habit persistence\n",
    "\n",
    "## Overview\n",
    "\n",
    "__This notebook displays three models and solutions with capital and endogenously determined long-run risk.  The models are considered in each of the three sections of this notebook and include:__\n",
    "\n",
    "__1. Adjustment cost__\n",
    "\n",
    "__2. Permanent income__\n",
    "\n",
    "__3. Habit persistance__\n",
    "\n",
    "__The first is an AK model with adjustment costs inspired in part by Eberly and Wong but includes a persistence process for technology.  The second is a version of Friedman's permanent income model, and the third one extends this to include habit persistence preferences motivated by the work of Hansen, Sargent Tallarini.__\n",
    "\n",
    "*This Notebook shows the solution strategy of the habit persistence model with HST's specification, addressed in \"Robust social planner with a single capital stock: notes\" (\"notes\" for reference). The notebook has two sections:*\n",
    "\n",
    "*1. Consumption responses for the permanent and transitory shock processes for habit persistent preferences*\n",
    "\n",
    "*2. Robustnes*\n",
    "\n",
    "*Note: To use this notebook, one needs to install `sympy`,  a Python library for symbolic mathematics that can solve system of equations analytically. We use `sympy` here to solve the system dynamics of the habit persistence model. For more information about `sympy`, visit http://docs.sympy.org/latest/tutorial/index.html.*"
   ]
  },
  {
   "cell_type": "code",
   "execution_count": 1,
   "metadata": {},
   "outputs": [
    {
     "data": {
      "text/html": [
       "<script>\n",
       "code_show=true; \n",
       "function code_toggle() {\n",
       " if (code_show){\n",
       " $('div.input').hide();\n",
       " } else {\n",
       " $('div.input').show();\n",
       " }\n",
       " code_show = !code_show\n",
       "} \n",
       "$( document ).ready(code_toggle);\n",
       "</script>\n",
       "<form action=\"javascript:code_toggle()\"><input type=\"submit\" value=\"Click here to switch on/off the raw code\"></form>"
      ],
      "text/plain": [
       "<IPython.core.display.HTML object>"
      ]
     },
     "execution_count": 1,
     "metadata": {},
     "output_type": "execute_result"
    }
   ],
   "source": [
    "# Toggle on/off the raw code\n",
    "from IPython.display import HTML\n",
    "\n",
    "HTML('''<script>\n",
    "code_show=true; \n",
    "function code_toggle() {\n",
    " if (code_show){\n",
    " $('div.input').hide();\n",
    " } else {\n",
    " $('div.input').show();\n",
    " }\n",
    " code_show = !code_show\n",
    "} \n",
    "$( document ).ready(code_toggle);\n",
    "</script>\n",
    "<form action=\"javascript:code_toggle()\"><input type=\"submit\" value=\"Click here to switch on/off the raw code\"></form>''')"
   ]
  },
  {
   "cell_type": "markdown",
   "metadata": {},
   "source": [
    "## Section 3: Habit Persistance"
   ]
  },
  {
   "cell_type": "markdown",
   "metadata": {},
   "source": [
    "### Section 3.1: Consumption responses under habit persistence"
   ]
  },
  {
   "cell_type": "markdown",
   "metadata": {},
   "source": [
    "In this section, we solve the system dynamics of the habit persistence model and plot the consumption responses. First, we setup the parameters, shocks and figure format, and import functions from the module `habit_persistence_code`. The parameters follow Section 2 of the chapter."
   ]
  },
  {
   "cell_type": "code",
   "execution_count": 1,
   "metadata": {
    "scrolled": true
   },
   "outputs": [
    {
     "data": {
      "text/html": [
       "        <script type=\"text/javascript\">\n",
       "        window.PlotlyConfig = {MathJaxConfig: 'local'};\n",
       "        if (window.MathJax) {MathJax.Hub.Config({SVG: {font: \"STIX-Web\"}});}\n",
       "        if (typeof require !== 'undefined') {\n",
       "        require.undef(\"plotly\");\n",
       "        requirejs.config({\n",
       "            paths: {\n",
       "                'plotly': ['https://cdn.plot.ly/plotly-latest.min']\n",
       "            }\n",
       "        });\n",
       "        require(['plotly'], function(Plotly) {\n",
       "            window._Plotly = Plotly;\n",
       "        });\n",
       "        }\n",
       "        </script>\n",
       "        "
      ]
     },
     "metadata": {},
     "output_type": "display_data"
    }
   ],
   "source": [
    "#==============================================================================\n",
    "# Setup\n",
    "#==============================================================================\n",
    "# Import module\n",
    "from habit_persistence_code_Sep29 import *\n",
    "import plotly.graph_objs as go\n",
    "import plotly.offline as py\n",
    "from plotly import tools\n",
    "from multiprocessing import Pool\n",
    "from itertools import product\n",
    "from ipywidgets import *\n",
    "import numpy as np\n",
    "\n",
    "py.offline.init_notebook_mode(connected=True)"
   ]
  },
  {
   "cell_type": "markdown",
   "metadata": {},
   "source": [
    "To compute consumption responses under habit persistence with robustness, we essentially conduct the following steps:\n",
    "\n",
    "1. Calculate parameters and Steady State Values\n",
    "2. Include $C^{1}_{t}$ as one of costate variables in $Z^{1}_{t}$\n",
    "3. Solve for matrices $\\mathbb{L}$ and $\\mathbb{J}$\n",
    "4. Compute $\\mathbb{N}_{11}$ and $\\mathbb{N}_{12}$\n",
    "5. Compute the stable dynamic matrix $\\mathbb{A}$\n",
    "6. Perform the two checks: (1) the matrix multiplication is zero (2) eigenvalues of $\\mathbb{A}$ coincide with the weakly stable eigenvalues\n",
    "7. Add the shocks back to the $X$ evolution equation\n",
    "8. Compute the consumption response process {$C^{1}_{t} + Y^{1}_{t}$}.\n",
    "\n",
    "We add in a concern about robustness as in Hansen et al. (1999). We compute the first-order term for the continuation value process as follows,\n",
    "\n",
    "\\begin{equation}\n",
    "V_t = [1 - \\exp(-\\delta)]  (U_t + Y_t)   + \\exp(-\\delta)  (1-\\gamma) \\log E\\left[ \\exp \\left( (1 - \\gamma) V_{t+1} \\right) \\vert {\\mathcal F}_t \\right]\n",
    "\\end{equation}\n",
    "\n",
    "\\begin{equation}\n",
    "V_t^1 - Y_t^1 = [1-exp(-\\delta)]U_t^1 + exp(-\\delta)\\frac{1}{1-\\gamma} logE\\big[exp\\big((1-\\gamma)(V_{t+1}^1-Y_t^1)\\big)|\\mathcal{F}_t \\big]\n",
    "\\end{equation}\n",
    "\n",
    "\n",
    "Represent:\n",
    "\n",
    "\\begin{equation}\n",
    "Y^{1}_{t+1} - Y^{1}_{t} = \\mathbb{S}_y \\cdot X_{t} + \\mathbb{F}_y \\cdot W_{t+1}\n",
    "\\end{equation}\n",
    "\n",
    "\\begin{equation}\n",
    "U^{1}_{t} = \n",
    "\\mathbb{S}_{u} \\cdot \n",
    "\\begin{bmatrix}\n",
    "K^{1}_{t} \\\\\n",
    "H^{1}_{t} \\\\\n",
    "X_{t}\n",
    "\\end{bmatrix}\n",
    "\\end{equation}\n",
    "\n",
    "\\begin{equation}\n",
    "V^{1}_{t} - Y^{1}_{t} = \n",
    "\\mathbb{S}_{v} \\cdot \n",
    "\\begin{bmatrix}\n",
    "K^{1}_{t} \\\\\n",
    "H^{1}_{t} \\\\\n",
    "X_{t}\n",
    "\\end{bmatrix}\n",
    "+ s_{v}\n",
    "\\end{equation}\n",
    "\n",
    "where $\\mathbb{S}_{u}$ comes from the model solution using `solve_habit_persistence`. Specifically, we do the following:\n",
    "\n",
    "1. Get $U^{1}_{t}$ from the model solution and express it in terms of $Z$\n",
    "2. Express the co-state expressions $MK^{1}_{t}$ and $MH^{1}_{t}$ in $U^{1}_{t}$ in terms of the states $K^{1}_{t}$, $H^{1}_{t}$, $X_{t}$\n",
    "3. Collecting terms to get $U^{1}_{t}$ in terms of $K^{1}_{t}$, $H^{1}_{t}$, $X_{t}$\n",
    "\n",
    "Next, we compute $\\mathbb{S}_{v}$ as in Hansen et al. (2008)\n",
    "\n",
    "\\begin{equation}\n",
    "(\\mathbb{S}_{v})' = \n",
    "[1 - \\exp(-\\delta)] (\\mathbb{S}_{u})' + \n",
    "\\exp(-\\delta) [(\\mathbb{S}_{v})'\\mathbb{A} + \n",
    "\\begin{bmatrix}\n",
    "0 & 0 & (\\mathbb{S}_y)'\n",
    "\\end{bmatrix}]\n",
    "\\end{equation}\n",
    "\n",
    "The above procedures can be done through the function `get_Sv`. The function uses the inputs from `solve_habit_persistence` to solve for $\\mathbb{S}_{v}$.\n",
    "\n",
    "The uncertainty price vector can be computed as,\n",
    "\n",
    "\\begin{equation}\n",
    "-(1-\\gamma)[(\\mathbb{S}_{v})'\\mathbb{B} + \\mathbb{F}_y]\n",
    "\\end{equation}\n",
    "\n",
    "with functions `get_SvBFy`. \n",
    "\n",
    "\n",
    "The rest of the linear conditions stay the same as follows:\n",
    "\n",
    "\\begin{equation}\n",
    "\\tag{1}\n",
    "\\label{1}\n",
    "K^{1}_{t+1} \\exp(\\nu) + \\bar{k} \\exp(\\nu) (Y_{t+1}^{1} - Y_{t}^{1}) + \\exp(\\bar{c}) C_{t}^{1} = \\exp(\\rho) K_{t}^{1}\n",
    "\\end{equation}\n",
    "\n",
    "\\begin{equation}\n",
    "\\tag{2}\n",
    "\\label{2}\n",
    "H^{1}_{t+1} = \\exp(-\\psi - \\nu) H^{1}_{t} - [1 - \\exp(-\\nu - \\psi)] C^{1}_{t} - Y_{t+1} + Y_{t}\n",
    "\\end{equation}\n",
    "\n",
    "\\begin{equation}\n",
    "\\tag{3}\n",
    "\\label{3}\n",
    "U^{1}_{t} = (1-\\alpha) \\exp[(\\eta - 1)(\\bar{u} - \\bar{c})] C^{1}_{t} + \\alpha \\exp[(\\eta - 1)(\\bar{u} - \\bar{h})] H^{1}_{t}\n",
    "\\end{equation}\n",
    "\n",
    "\\begin{equation}\n",
    "\\exp(-\\delta - \\psi - \\nu + \\overline{mh})E[MH^{1}_{t+1} + Y^{1}_{t} - Y^{1}_{t+1} | \\mathcal{F}_{t}]\\\n",
    "\\end{equation}\n",
    "\\begin{equation}\n",
    "\\tag{4}\n",
    "\\label{4}\n",
    "+ \\, \\alpha \\exp[-\\delta - \\nu +(\\eta - 1)\\bar{u} - \\eta \\bar{h}]E[(\\eta - 1)U_{t+1}^1 - \\eta H_{t+1}^{1} + Y_{t}^{1} - Y_{t+1}^{1} | \\mathcal{F}_{t}] = \\exp(\\overline{mh})MH^{1}_{t}\n",
    "\\end{equation}\n",
    "\n",
    "\\begin{equation}\n",
    "\\tag{5}\n",
    "\\label{5}\n",
    "(1 - \\alpha) \\exp[(\\eta - 1) \\bar{u} - \\eta \\bar{c}] [(\\eta - 1) U^{1}_{t} - \\eta C^{1}_{t}] = \\exp(\\overline{mk})MK_{t}^{1} - [1 - \\exp(-\\psi)]\\exp(\\overline{mh})MH_{t}^{1}\n",
    "\\end{equation}\n",
    "\n",
    "\\begin{equation}\n",
    "\\tag{6}\n",
    "\\label{6}\n",
    "\\exp(-\\delta + \\rho - \\nu) E[MK^{1}_{t+1} + Y^{1}_{t} - Y^{1}_{t+1} | \\mathcal{F}_{t}] = MK^{1}_{t}\n",
    "\\end{equation}\n",
    "\n",
    "We construct two functions to execute the above steps:\n",
    "- (for steps 1 through 6) `solve_habit_persistence` \n",
    "- (for steps 7 and 8) `habit_persistence_consumption_path`\n",
    "\n",
    "We first solve the habit persistence model with function `solve_habit_persistence`, and then we calculate the consumption responses by inputting the model solution into function `habit_persistence_consumption_path`."
   ]
  },
  {
   "cell_type": "code",
   "execution_count": 2,
   "metadata": {
    "scrolled": false
   },
   "outputs": [
    {
     "data": {
      "application/vnd.jupyter.widget-view+json": {
       "model_id": "aadda642a3d845f99eb254b9fb9f90a4",
       "version_major": 2,
       "version_minor": 0
      },
      "text/plain": [
       "interactive(children=(FloatSlider(value=0.5, description='α', max=1.0, min=0.5), FloatSlider(value=1.0, descri…"
      ]
     },
     "metadata": {},
     "output_type": "display_data"
    },
    {
     "data": {
      "application/vnd.jupyter.widget-view+json": {
       "model_id": "297434d88c5343a6bd0333d1940d1243",
       "version_major": 2,
       "version_minor": 0
      },
      "text/plain": [
       "FigureWidget({\n",
       "    'data': [{'line': {'color': 'green', 'width': 3},\n",
       "              'name': 'permanent',\n",
       "      …"
      ]
     },
     "metadata": {},
     "output_type": "display_data"
    }
   ],
   "source": [
    "# Set time period from 0 to 40\n",
    "T = 40 + 1 \n",
    "\n",
    "# Create IRF figure\n",
    "trace1 = dict(type='scatter',\n",
    "              x = list(range(T)),\n",
    "              line=dict(color='green', width=3),\n",
    "              name = 'permanent')\n",
    "trace2 = dict(type='scatter',\n",
    "              x = list(range(T)),\n",
    "              line=dict(color='blue', width=3),\n",
    "              name = 'transitory')  \n",
    "\n",
    "fig = tools.make_subplots(rows=2, cols=1, print_grid=False)\n",
    "\n",
    "fig.add_trace(trace1,row=1,col=1)\n",
    "fig.add_trace(trace2,row=2,col=1)\n",
    "\n",
    "layout = dict(yaxis=dict(range=[-0.1, 0.5]), yaxis2=dict(range=[-0.005, 0.005]),\n",
    "              height=600, width=700, title='Consumption responses')\n",
    "fig['layout'].update(layout)\n",
    "\n",
    "f = go.FigureWidget(fig)\n",
    "\n",
    "\n",
    "# Create grid : 'parameter' = (Starting Value, End Value, Interval)\n",
    "𝛼 = (0.50, 1.0, 0.10)\n",
    "𝜓 = (1.0, 3.0, 0.5)\n",
    "𝜂 = (100, 160, 20)\n",
    "γ = (1.0, 7.0, 0.5)\n",
    "alpha_range = np.round(np.arange(𝛼[0],𝛼[1]+𝛼[2],𝛼[2]),2)\n",
    "psi_range = np.round(np.arange(𝜓[0],𝜓[1]+𝜓[2],𝜓[2]),2)\n",
    "eta_range = np.round(np.arange(𝜂[0],𝜂[1]+𝜂[2],𝜂[2]),2)\n",
    "gamma_range = np.round(np.arange(γ[0],γ[1]+γ[2],γ[2]),2)\n",
    "len_𝛼 = len(alpha_range)\n",
    "len_𝜓 = len(psi_range)\n",
    "len_𝜂 = len(eta_range)\n",
    "len_γ = len(gamma_range)\n",
    "\n",
    "\n",
    "# Parallelize the computation\n",
    "if __name__ == '__main__':\n",
    "    with Pool(5) as pool:\n",
    "        prd = product(alpha_range, psi_range, eta_range, gamma_range, [T])\n",
    "        results = pool.starmap(habit_consumption_and_uncertainty_price, prd)\n",
    "\n",
    "# Create slides for interaction\n",
    "def update(𝛼=0.5, 𝜓=1.0, 𝜂=100, γ=1.0):\n",
    "    with f.batch_update():\n",
    "        idx_𝛼 = np.argwhere(alpha_range==𝛼)[0,0]\n",
    "        idx_𝜓 = np.argwhere(psi_range==𝜓)[0,0]\n",
    "        idx_𝜂 = np.argwhere(eta_range==𝜂)[0,0]\n",
    "        idx_γ = np.argwhere(gamma_range==γ)[0,0]\n",
    "        idx = idx_γ + idx_𝜂 * len_γ + idx_𝜓 * (len_𝜂 * len_γ) + idx_𝛼 * (len_𝜓 * (len_𝜂 * len_γ))\n",
    "        f.data[0].y = results[idx][0]\n",
    "        f.data[1].y = results[idx][1]        \n",
    "        SvBFy = results[idx][2]\n",
    "        #print('The uncertainty price vector: {0}'.format(SvBFy))        \n",
    "        \n",
    "# Plot\n",
    "interact(update, 𝛼=𝛼, 𝜓=𝜓, 𝜂=𝜂, γ=γ)\n",
    "f"
   ]
  },
  {
   "cell_type": "markdown",
   "metadata": {},
   "source": [
    "## References"
   ]
  },
  {
   "cell_type": "markdown",
   "metadata": {},
   "source": [
    "Hansen, Lars Peter and Thomas J. Sargent. 2008. *Robustness*. Princeton, New Jersey:\n",
    "Princeton University Press.\n",
    "\n",
    "Hansen, Lars Peter, William Roberds, and Thomas J. Sargent. 1991. Time Series Im-\n",
    "plications of Present Value Budget Balance and of Martingale Models of Consumption\n",
    "and Taxes. *In Rational Expectations Econometrics*, edited by Lars Peter Hansen and\n",
    "Thomas J. Sargent, chap. 5. Boulder, Colorado: Westview Press.\n",
    "\n",
    "Hansen, Lars Peter, Thomas Sargent, and Thomas Tallarini. 1999. Robust Permanent\n",
    "Income and Pricing. *Review of Economic Studies* 66 (4):873-907.\n",
    "\n",
    "Hansen, Lars Peter, John C. Heaton, and Nan Li. 2008. Consumption Strikes Back?:\n",
    "Measuring Long Run Risk. *Journal of Political Economy*."
   ]
  }
 ],
 "metadata": {
  "kernelspec": {
   "display_name": "Python 3",
   "language": "python",
   "name": "python3"
  },
  "language_info": {
   "codemirror_mode": {
    "name": "ipython",
    "version": 3
   },
   "file_extension": ".py",
   "mimetype": "text/x-python",
   "name": "python",
   "nbconvert_exporter": "python",
   "pygments_lexer": "ipython3",
   "version": "3.7.1"
  }
 },
 "nbformat": 4,
 "nbformat_minor": 2
}
