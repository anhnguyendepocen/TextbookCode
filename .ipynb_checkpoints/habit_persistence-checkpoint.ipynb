{
 "cells": [
  {
   "cell_type": "markdown",
   "metadata": {},
   "source": [
    "# Habit persistence\n",
    "\n",
    "## Overview\n",
    "\n",
    "__This notebook displays three models and solutions with capital and endogenously determined long-run risk.  The models are considered in each of the three sections of this notebook and include:__\n",
    "\n",
    "__1. Adjustment cost__\n",
    "\n",
    "__2. Permanent income__\n",
    "\n",
    "__3. Habit persistance__\n",
    "\n",
    "__The first is an AK model with adjustment costs inspired in part by Eberly and Wong but includes a persistence process for technology.  The second is a version of Friedman's permanent income model, and the third one extends this to include habit persistence preferences motivated by the work of Hansen, Sargent Tallarini.__\n",
    "\n",
    "*This Notebook shows the solution strategy of the habit persistence model with HST's specification, addressed in \"Robust social planner with a single capital stock: notes\" (\"notes\" for reference). The notebook has two sections:*\n",
    "\n",
    "*1. Consumption responses for the permanent and transitory shock processes for habit persistent preferences*\n",
    "\n",
    "*2. Robustnes*\n",
    "\n",
    "*Note: To use this notebook, one needs to install `sympy`,  a Python library for symbolic mathematics that can solve system of equations analytically. We use `sympy` here to solve the system dynamics of the habit persistence model. For more information about `sympy`, visit http://docs.sympy.org/latest/tutorial/index.html.*"
   ]
  },
  {
   "cell_type": "code",
   "execution_count": 1,
   "metadata": {},
   "outputs": [],
   "source": [
    "# # Toggle on/off the raw code\n",
    "# from IPython.display import HTML\n",
    "\n",
    "# HTML('''<script>\n",
    "# code_show=true; \n",
    "# function code_toggle() {\n",
    "#  if (code_show){\n",
    "#  $('div.input').hide();\n",
    "#  } else {\n",
    "#  $('div.input').show();\n",
    "#  }\n",
    "#  code_show = !code_show\n",
    "# } \n",
    "# $( document ).ready(code_toggle);\n",
    "# </script>\n",
    "# <form action=\"javascript:code_toggle()\"><input type=\"submit\" value=\"Click here to switch on/off the raw code\"></form>''')"
   ]
  },
  {
   "cell_type": "markdown",
   "metadata": {},
   "source": [
    "## Section 3: Habit Persistance"
   ]
  },
  {
   "cell_type": "markdown",
   "metadata": {},
   "source": [
    "### Section 3.1: Consumption responses under habit persistence"
   ]
  },
  {
   "cell_type": "markdown",
   "metadata": {},
   "source": [
    "In this section, we solve the system dynamics of the habit persistence model and plot the consumption responses. First, we setup the parameters, shocks and figure format, and import functions from the module `habit_persistence_code`. The parameters follow Section 2 of the chapter."
   ]
  },
  {
   "cell_type": "code",
   "execution_count": 2,
   "metadata": {},
   "outputs": [
    {
     "name": "stdout",
     "output_type": "stream",
     "text": [
      "initial shock\n",
      "[[ 0.    ]\n",
      " [-0.0014]\n",
      " [ 0.0014]\n",
      " [ 0.    ]\n",
      " [ 0.    ]]\n"
     ]
    }
   ],
   "source": [
    "#==============================================================================\n",
    "# Setup\n",
    "#==============================================================================\n",
    "# Import packages\n",
    "import numpy as np\n",
    "import matplotlib.pyplot as plt\n",
    "from habit_persistence_code2 import *\n",
    "\n",
    "np.set_printoptions(precision=12,suppress=True)"
   ]
  },
  {
   "cell_type": "markdown",
   "metadata": {},
   "source": [
    "To compute consumption responses under habit persistence, we essentially conduct the following steps:\n",
    "\n",
    "1. Calculate parameters and Steady State Values\n",
    "2. Solve $C^{1}_{t}$ and $U^{1}_{t}$ in terms of $Z^{1}_{t}$ and $Z^{1}_{t+1}$\n",
    "3. Solve for matrices $\\mathbb{L}$ and $\\mathbb{J}$ (in this notebook I use $\\mathbb{L} = I$ and solve for $\\mathbb{J}$)\n",
    "4. Compute $\\mathbb{N}_{11}$ and $\\mathbb{N}_{12}$\n",
    "5. Compute the stable dynamic matrix $\\mathbb{A}$\n",
    "6. Perform the two checks: (1) the matrix multiplication is zero (2) eigenvalues of $\\mathbb{A}$ coincide with the weakly stable eigenvalues\n",
    "7. Add the shocks back to the $X$ evolution equation\n",
    "8. Compute the consumption response process {$C^{1}_{t} + Y^{1}_{t}$}.\n",
    "\n",
    "More detailed formulas and instructions can be found in \"Solution strategy\" section in \"notes\". Here we provide some equations for reference in the codes:\n",
    "\n",
    "\\begin{equation}\n",
    "\\tag{1}\n",
    "\\label{1}\n",
    "K^{1}_{t+1} = \\exp(\\rho - \\nu) K^{1}_{t} - \\exp(-\\nu) C^{1}_{t}\n",
    "\\end{equation}\n",
    "\n",
    "\\begin{equation}\n",
    "\\tag{2}\n",
    "\\label{2}\n",
    "H^{1}_{t+1} = \\exp(-\\psi - \\nu) H^{1}_{t} - [1 - \\exp(-\\nu - \\psi)] C^{1}_{t} - Y_{t+1} + Y_{t}\n",
    "\\end{equation}\n",
    "\n",
    "\\begin{equation}\n",
    "\\tag{3}\n",
    "\\label{3}\n",
    "U^{1}_{t} = (1-\\alpha) \\exp[(\\eta - 1)(\\bar{u} - \\bar{c})] C^{1}_{t} + \\alpha \\exp[(\\eta - 1)(\\bar{u} - \\bar{h})] H^{1}_{t}\n",
    "\\end{equation}\n",
    "\n",
    "\\begin{equation}\n",
    "\\tag{4}\n",
    "\\label{4}\n",
    "\\exp(-\\delta - \\psi - \\nu + \\overline{mh})E[MH^{1}_{t+1} + Y^{1}_{t} - Y^{1}_{t+1} | \\mathcal{F}_{t}] = \\exp(\\overline{mh})MH^{1}_{t} - \\alpha \\exp[(\\eta - 1) \\bar{u} - \\eta \\bar{h}] [(\\eta - 1) U^{1}_{t} - \\eta H^{1}_{t}]\n",
    "\\end{equation}\n",
    "\n",
    "\\begin{equation}\n",
    "\\tag{5}\n",
    "\\label{5}\n",
    "(1 - \\alpha) \\exp[(\\eta - 1) \\bar{u} - \\eta \\bar{c}] [(\\eta - 1) U^{1}_{t} - \\eta C^{1}_{t}] = \\exp(-\\delta - \\nu) E\\{\\exp(\\overline{mk}) MK^{1}_{t+1} - [1 - \\exp(-\\psi)] \\exp(\\overline{mh}) MH^{1}_{t+1} | \\mathcal{F}_{t}\\} + \\exp(-\\delta - \\nu) \\{\\exp(\\overline{mk}) - [1 - \\exp(-\\psi)] \\exp(\\overline{mh})\\} E(Y^{1}_{t} - Y^{1}_{t+1} | \\mathcal{F}_{t})\n",
    "\\end{equation}\n",
    "\n",
    "\\begin{equation}\n",
    "\\tag{6}\n",
    "\\label{6}\n",
    "\\exp(-\\delta + \\rho - \\nu) E[MK^{1}_{t+1} + Y^{1}_{t} - Y^{1}_{t+1} | \\mathcal{F}_{t}] = MK^{1}_{t}\n",
    "\\end{equation}\n",
    "\n",
    "We construct two functions to execute the above steps:\n",
    "- (for steps 1 through 6) `solve_habit_persistence` \n",
    "- (for steps 7 and 8) `habit_persistence_consumption_path`\n",
    "\n",
    "We first solve the habit persistence model with function `solve_habit_persistence`, and then we calculate the consumption responses by inputting the model solution into function `habit_persistence_consumption_path`. I will later test to combine these two functions with the default parameters into a `class` object. For now we just keep the functions separately.\n",
    "\n",
    "The parameters that can be changed are in `solve_habit_persistence`:\n",
    "\n",
    "- $\\alpha$: share parameter\n",
    "- $\\psi$: depreciation rate, $0\\leq\\exp(-\\psi)<1$\n",
    "- $\\eta$: elasticity of substitution.\n",
    "\n",
    "The example below provides a standard procedure of how to solve, compute and plot the consumption responses with our choice of parameters. In this example, we set $\\alpha = 0.5$, $\\psi = 0.3$, and $\\eta = 2$. The function `create_fig` to create the plot format for the impulse responses, in which we can control the subplots, size and the time horizon on the x-axis."
   ]
  },
  {
   "cell_type": "markdown",
   "metadata": {},
   "source": [
    "In many cases, we would like to plot out the consumption responses given our choices of one parameter while holding the other two parameters fixed. Here we will create empty lists to store the consumption response paths for each choice of the parameter, and then use a `for` loop to plot out each choice. The examples below are the figures we have on \"notes\":\n",
    "\n",
    "- Consumption responses for $\\alpha = .5$, $\\epsilon = 10, 25, 50, 100$, $\\chi = .9$ (80 periods)"
   ]
  },
  {
   "cell_type": "code",
   "execution_count": 3,
   "metadata": {},
   "outputs": [
    {
     "name": "stdout",
     "output_type": "stream",
     "text": [
      "[9.7524e-01 1.0000e+00 1.9016e-01 8.0984e-01 7.0400e-01 1.0029e+00\n",
      " 1.0160e+00 1.1408e+17]\n",
      "[1.0000e+00 1.9016e-01 8.0984e-01 7.0400e-01 1.0029e+00 1.2135e+00\n",
      " 1.0036e+00 1.9140e+17]\n",
      "[1.0000e+00 1.9016e-01 8.0984e-01 7.0400e-01 1.0029e+00 1.2496e+00\n",
      " 1.0063e+00 1.5988e+18]\n",
      "[1.0000e+00 1.9016e-01 8.0984e-01 7.0400e-01 1.0029e+00 1.2345e+00\n",
      " 1.0216e+00 2.3193e+17]\n"
     ]
    },
    {
     "data": {
      "image/png": "[encoded data removed]",
      "text/plain": [
       "<Figure size 576x432 with 2 Axes>"
      ]
     },
     "metadata": {
      "needs_background": "light"
     },
     "output_type": "display_data"
    }
   ],
   "source": [
    "#==============================================================================\n",
    "# Consumption responses for alpha = .5; epsilon = 10, 25, 50, 100; chi = .9\n",
    "#==============================================================================\n",
    "# Set time \n",
    "T = 80 + 1\n",
    "\n",
    "C1Y1_list = []\n",
    "C2Y2_list = []\n",
    "\n",
    "epsilon_list = [.9, 10, 50, 100]\n",
    "\n",
    "\n",
    "for e in epsilon_list:\n",
    "        \n",
    "    J, A, N, Ut, _ = solve_habit_persistence(0.5, -np.log(0.9), e)\n",
    "    \n",
    "    # Append consumption responses to list\n",
    "    CYs, Ys = habit_persistence_consumption_path(A, N, T=T)\n",
    "    C1Y1, C2Y2 = CYs\n",
    "    \n",
    "    C1Y1_list.append(C1Y1)\n",
    "    C2Y2_list.append(C2Y2)  \n",
    "    \n",
    "    # Compute uncertainty price\n",
    "    Sv = get_Sv(J, A, N, Ut)\n",
    "    SvBFy = get_SvBFy(Sv) * 100\n",
    "    SvBFy = [float('%.3g' % x) for x in SvBFy]\n",
    "\n",
    "##== Plot the graphs for the impulse reponses ==##\n",
    "# Define plot attributes\n",
    "\n",
    "## Impulse response plots for consumption\n",
    "fig, axes = plt.subplots(2, 1,figsize=(8,6))\n",
    "plt.subplots_adjust(hspace=0.5)\n",
    "p_args = {'lw': 3}\n",
    "for ax in axes:\n",
    "    ax.set_xlim(0,80)\n",
    "    ax.set_xlabel(r'Quarters', fontsize=15)\n",
    "    ax.tick_params(axis=\"x\", labelsize=12)\n",
    "    ax.tick_params(axis=\"y\", labelsize=12)\n",
    "\n",
    "ax = axes[0]\n",
    "ax.set_ylim(0., 0.71)\n",
    "for n, C1Y1 in enumerate(C1Y1_list):\n",
    "    ax.plot(list(range(T)), C1Y1, **p_args, \n",
    "            label=r'$\\epsilon$ = {}'.format(epsilon_list[n]))\n",
    "    ax.legend(loc='lower right')\n",
    "\n",
    "ax = axes[1]\n",
    "ax.set_ylim(-0.11, 0.51)\n",
    "for n, C2Y2 in enumerate(C2Y2_list):\n",
    "    ax.plot(list(range(T)), C2Y2, **p_args, \n",
    "            label=r'$\\epsilon$ = {}'.format(epsilon_list[n]))\n",
    "    ax.legend(loc='upper right')\n",
    "\n",
    "plt.show()"
   ]
  },
  {
   "cell_type": "code",
   "execution_count": 4,
   "metadata": {},
   "outputs": [],
   "source": [
    "# Export the figure\n",
    "fig.savefig('epsilon_responses.pdf')"
   ]
  },
  {
   "cell_type": "markdown",
   "metadata": {},
   "source": [
    "- Consumption responses for $\\alpha = .1, .3, .5, .7, .9$, $\\epsilon = 50$, $\\chi = .9$ (80 periods)"
   ]
  },
  {
   "cell_type": "code",
   "execution_count": 5,
   "metadata": {},
   "outputs": [
    {
     "name": "stdout",
     "output_type": "stream",
     "text": [
      "[9.9908e-01 1.0000e+00 1.9016e-01 8.0984e-01 7.0400e-01 1.0029e+00\n",
      " 1.2512e+00 5.4428e+18]\n",
      "[1.0000e+00 1.9016e-01 8.0984e-01 7.0400e-01 1.0029e+00 1.2533e+00\n",
      " 1.0023e+00 2.3128e+18]\n",
      "[1.0000e+00 1.9016e-01 8.0984e-01 7.0400e-01 1.0029e+00 1.2496e+00\n",
      " 1.0063e+00 1.5988e+18]\n",
      "[1.0000e+00 1.9016e-01 8.0984e-01 7.0400e-01 1.0029e+00 1.2384e+00\n",
      " 1.0157e+00 9.7534e+17]\n",
      "[1.0000e+00 1.9016e-01 8.0984e-01 7.0400e-01 1.0029e+00 1.1382e+00\n",
      " 1.1054e+00 2.3480e+16]\n"
     ]
    },
    {
     "data": {
      "image/png": "[encoded data removed]",
      "text/plain": [
       "<Figure size 576x432 with 2 Axes>"
      ]
     },
     "metadata": {
      "needs_background": "light"
     },
     "output_type": "display_data"
    }
   ],
   "source": [
    "#==============================================================================\n",
    "# Consumption responses for alpha = .1, .3, .5, .7, .9; epsilon = 50; chi = .9\n",
    "#==============================================================================\n",
    "# Set time \n",
    "T = 80 + 1\n",
    "\n",
    "C1Y1_list = []\n",
    "C2Y2_list = []\n",
    "\n",
    "alpha_list = [.1, .3, .5, .7, .9]\n",
    "\n",
    "\n",
    "for a in alpha_list:\n",
    "        \n",
    "    J, A, N, Ut, _ = solve_habit_persistence(a, -np.log(0.9), 50)\n",
    "        \n",
    "    # Append consumption responses to list\n",
    "    CYs, Ys = habit_persistence_consumption_path(A, N, T=T)\n",
    "    C1Y1, C2Y2 = CYs\n",
    "    \n",
    "    C1Y1_list.append(C1Y1)\n",
    "    C2Y2_list.append(C2Y2)  \n",
    "\n",
    "##== Plot the graphs for the impulse reponses ==##\n",
    "# Define plot attributes\n",
    "## Impulse response plots for consumption\n",
    "fig, axes = plt.subplots(2, 1,figsize=(8,6))\n",
    "plt.subplots_adjust(hspace=0.5)\n",
    "p_args = {'lw': 3}\n",
    "for ax in axes:\n",
    "    ax.set_xlim(0,80)\n",
    "    ax.set_xlabel(r'Quarters', fontsize=15)\n",
    "    ax.tick_params(axis=\"x\", labelsize=12)\n",
    "    ax.tick_params(axis=\"y\", labelsize=12)\n",
    "\n",
    "ax = axes[0]\n",
    "ax.set_ylim(0., 0.71)\n",
    "for n, C1Y1 in enumerate(C1Y1_list):\n",
    "    ax.plot(list(range(T)), C1Y1, **p_args, \n",
    "            label=r'$\\alpha$ = {}'.format(alpha_list[n]))\n",
    "    ax.legend(loc='lower right')\n",
    "\n",
    "ax = axes[1]\n",
    "ax.set_ylim(-0.11, 0.51)\n",
    "for n, C2Y2 in enumerate(C2Y2_list):\n",
    "    ax.plot(list(range(T)), C2Y2, **p_args, \n",
    "            label=r'$\\alpha$ = {}'.format(alpha_list[n]))\n",
    "    ax.legend(loc='upper right')\n",
    "\n",
    "plt.show()"
   ]
  },
  {
   "cell_type": "code",
   "execution_count": 6,
   "metadata": {},
   "outputs": [],
   "source": [
    "# Export the figure\n",
    "fig.savefig('alpha_responses.pdf')"
   ]
  },
  {
   "cell_type": "markdown",
   "metadata": {},
   "source": [
    "- Consumption responses for $\\alpha = .5$, $\\epsilon = 50$, $\\chi = .6, .8, .9, .95$ (80 periods)"
   ]
  },
  {
   "cell_type": "code",
   "execution_count": 7,
   "metadata": {
    "scrolled": false
   },
   "outputs": [
    {
     "name": "stdout",
     "output_type": "stream",
     "text": [
      "[3.7690e-01 1.0000e+00 1.9016e-01 8.0984e-01 7.0400e-01 1.0029e+00\n",
      " 2.2704e+00 5.1982e+16]\n"
     ]
    },
    {
     "data": {
      "image/png": "[encoded data removed]",
      "text/plain": [
       "<Figure size 576x432 with 2 Axes>"
      ]
     },
     "metadata": {
      "needs_background": "light"
     },
     "output_type": "display_data"
    }
   ],
   "source": [
    "#==============================================================================\n",
    "# Consumption responses for alpha = .5; epsilon = 50; chi = .4, .8, 1.6, 2.4\n",
    "#==============================================================================\n",
    "# Set time \n",
    "T = 80 + 1\n",
    "\n",
    "C1Y1_list = []\n",
    "C2Y2_list = []\n",
    "\n",
    "chi_list = [.4]\n",
    "\n",
    "\n",
    "for c in chi_list:\n",
    "        \n",
    "    J, A, N, Ut, _ = solve_habit_persistence(0.1, -np.log(c), .5)\n",
    "    \n",
    "    # Append consumption responses to list\n",
    "    CYs, Ys = habit_persistence_consumption_path(A, N, T=T)\n",
    "    C1Y1, C2Y2 = CYs\n",
    "    \n",
    "    C1Y1_list.append(C1Y1)\n",
    "    C2Y2_list.append(C2Y2)  \n",
    "\n",
    "##== Plot the graphs for the impulse reponses ==##\n",
    "# Define plot attributes\n",
    "## Impulse response plots for consumption\n",
    "fig, axes = plt.subplots(2, 1,figsize=(8,6))\n",
    "plt.subplots_adjust(hspace=0.5)\n",
    "p_args = {'lw': 3}\n",
    "for ax in axes:\n",
    "    ax.set_xlim(0,80)\n",
    "    ax.set_xlabel(r'Quarters', fontsize=15)\n",
    "    ax.tick_params(axis=\"x\", labelsize=12)\n",
    "    ax.tick_params(axis=\"y\", labelsize=12)\n",
    "\n",
    "ax = axes[0]\n",
    "#ax.set_ylim(0.480, .530)\n",
    "for n, C1Y1 in enumerate(C1Y1_list):\n",
    "    ax.plot(list(range(T)), C1Y1, **p_args, \n",
    "            label=r'$\\chi$ = {}'.format(chi_list[n]))\n",
    "    ax.legend(loc='upper right')\n",
    "\n",
    "ax = axes[1]\n",
    "#ax.set_ylim(-0.01, 0.05)\n",
    "for n, C2Y2 in enumerate(C2Y2_list):\n",
    "    ax.plot(list(range(T)), C2Y2, **p_args, \n",
    "            label=r'$\\chi$ = {}'.format(chi_list[n]))\n",
    "    ax.legend(loc='upper right')\n",
    "\n",
    "plt.show()"
   ]
  },
  {
   "cell_type": "code",
   "execution_count": 8,
   "metadata": {},
   "outputs": [
    {
     "data": {
      "text/plain": [
       "[array([0.1436, 0.2448, 0.316 , 0.3661, 0.4014, 0.4262, 0.4437, 0.456 ,\n",
       "        0.4647, 0.4708, 0.4751, 0.4781, 0.4802, 0.4817, 0.4828, 0.4835,\n",
       "        0.484 , 0.4844, 0.4847, 0.4848, 0.485 , 0.4851, 0.4851, 0.4852,\n",
       "        0.4852, 0.4852, 0.4852, 0.4852, 0.4853, 0.4853, 0.4853, 0.4853,\n",
       "        0.4853, 0.4853, 0.4853, 0.4853, 0.4853, 0.4853, 0.4853, 0.4853,\n",
       "        0.4853, 0.4853, 0.4853, 0.4853, 0.4853, 0.4853, 0.4853, 0.4853,\n",
       "        0.4853, 0.4853, 0.4853, 0.4853, 0.4853, 0.4853, 0.4853, 0.4853,\n",
       "        0.4853, 0.4853, 0.4853, 0.4853, 0.4853, 0.4853, 0.4853, 0.4853,\n",
       "        0.4853, 0.4853, 0.4853, 0.4853, 0.4853, 0.4853, 0.4853, 0.4853,\n",
       "        0.4853, 0.4853, 0.4853, 0.4853, 0.4853, 0.4853, 0.4853, 0.4853,\n",
       "        0.4853]),\n",
       " array([0.2061, 0.2061, 0.1744, 0.1427, 0.1158, 0.0938, 0.076 , 0.0615,\n",
       "        0.0498, 0.0404, 0.0327, 0.0265, 0.0214, 0.0174, 0.0141, 0.0114,\n",
       "        0.0092, 0.0075, 0.006 , 0.0049, 0.004 , 0.0032, 0.0026, 0.0021,\n",
       "        0.0017, 0.0014, 0.0011, 0.0009, 0.0007, 0.0006, 0.0005, 0.0004,\n",
       "        0.0003, 0.0003, 0.0002, 0.0002, 0.0001, 0.0001, 0.0001, 0.0001,\n",
       "        0.0001, 0.    , 0.    , 0.    , 0.    , 0.    , 0.    , 0.    ,\n",
       "        0.    , 0.    , 0.    , 0.    , 0.    , 0.    , 0.    , 0.    ,\n",
       "        0.    , 0.    , 0.    , 0.    , 0.    , 0.    , 0.    , 0.    ,\n",
       "        0.    , 0.    , 0.    , 0.    , 0.    , 0.    , 0.    , 0.    ,\n",
       "        0.    , 0.    , 0.    , 0.    , 0.    , 0.    , 0.    , 0.    ,\n",
       "        0.    ])]"
      ]
     },
     "execution_count": 8,
     "metadata": {},
     "output_type": "execute_result"
    }
   ],
   "source": [
    "Ys"
   ]
  },
  {
   "cell_type": "code",
   "execution_count": 9,
   "metadata": {},
   "outputs": [],
   "source": [
    "# Export the figure\n",
    "fig.savefig('chi_responses.pdf')"
   ]
  },
  {
   "cell_type": "markdown",
   "metadata": {},
   "source": [
    "### Section 3.2: Robustness"
   ]
  },
  {
   "cell_type": "markdown",
   "metadata": {},
   "source": [
    "Next we add in a concern about robustness as in Hansen et al. (1999). Represent:\n",
    "\n",
    "\\begin{equation}\n",
    "Y^{1}_{t+1} - Y^{1}_{t} = \\mathbb{S}_y \\cdot X_{t} + \\mathbb{F}_y \\cdot W_{t+1}\n",
    "\\end{equation}\n",
    "\n",
    "\\begin{equation}\n",
    "U^{1}_{t} = \n",
    "\\mathbb{S}_{u} \\cdot \n",
    "\\begin{bmatrix}\n",
    "K^{1}_{t} \\\\\n",
    "H^{1}_{t} \\\\\n",
    "X_{t}\n",
    "\\end{bmatrix}\n",
    "\\end{equation}\n",
    "\n",
    "\\begin{equation}\n",
    "V^{1}_{t} - Y^{1}_{t} = \n",
    "\\mathbb{S}_{v} \\cdot \n",
    "\\begin{bmatrix}\n",
    "K^{1}_{t} \\\\\n",
    "H^{1}_{t} \\\\\n",
    "X_{t}\n",
    "\\end{bmatrix}\n",
    "+ s_{v}\n",
    "\\end{equation}\n",
    "\n",
    "where $\\mathbb{S}_{u}$ comes from the model solution using `solve_habit_persistence`. Specifically, we do the following:\n",
    "\n",
    "1. Get $U^{1}_{t}$ from the model solution and express it in terms of $Z$\n",
    "2. Express the co-state expressions $MK^{1}_{t}$ and $MH^{1}_{t}$ in $U^{1}_{t}$ in terms of the states $K^{1}_{t}$, $H^{1}_{t}$, $X_{t}$\n",
    "3. Collecting terms to get $U^{1}_{t}$ in terms of $K^{1}_{t}$, $H^{1}_{t}$, $X_{t}$\n",
    "\n",
    "Next, we compute $\\mathbb{S}_{v}$ as in Hansen et al. (2008)\n",
    "\n",
    "\\begin{equation}\n",
    "(\\mathbb{S}_{v})' = \n",
    "[1 - \\exp(-\\delta)] (\\mathbb{S}_{u})' + \n",
    "\\exp(-\\delta) [(\\mathbb{S}_{v})'\\mathbb{A} + \n",
    "\\begin{bmatrix}\n",
    "0 & 0 & (\\mathbb{S}_y)'\n",
    "\\end{bmatrix}]\n",
    "\\end{equation}\n",
    "\n",
    "The above procedures can be done through the function `get_Sv`. The function uses the inputs from `solve_habit_persistence` to solve for $\\mathbb{S}_{v}$."
   ]
  },
  {
   "cell_type": "markdown",
   "metadata": {},
   "source": [
    "We also solve $s_{v}$, \n",
    "\n",
    "\\begin{equation}\n",
    "s_{v} = \\exp(-\\delta)[s_{v} - \\frac{\\xi}{2}|(\\mathbb{S}_{v})'\\mathbb{B} + \\mathbb{S}_{y})'\\mathbb{B}_x|^{2}]\n",
    "\\end{equation}\n",
    "\n",
    "and the uncertainty price vector \n",
    "\n",
    "\\begin{equation}\n",
    "(\\mathbb{S}_{v})'\\mathbb{B} + F_{y}\n",
    "\\end{equation}\n",
    "\n",
    "with functions `solve_sv` and `get_SvBFy` respectively. \n",
    "Now, we test the example that we used in \"notes\": $(\\alpha, \\eta, \\psi) = (.1, 100, 1.6)$:"
   ]
  },
  {
   "cell_type": "markdown",
   "metadata": {},
   "source": [
    "## References"
   ]
  },
  {
   "cell_type": "markdown",
   "metadata": {},
   "source": [
    "Hansen, Lars Peter and Thomas J. Sargent. 2008. *Robustness*. Princeton, New Jersey:\n",
    "Princeton University Press.\n",
    "\n",
    "Hansen, Lars Peter, William Roberds, and Thomas J. Sargent. 1991. Time Series Im-\n",
    "plications of Present Value Budget Balance and of Martingale Models of Consumption\n",
    "and Taxes. *In Rational Expectations Econometrics*, edited by Lars Peter Hansen and\n",
    "Thomas J. Sargent, chap. 5. Boulder, Colorado: Westview Press.\n",
    "\n",
    "Hansen, Lars Peter, Thomas Sargent, and Thomas Tallarini. 1999. Robust Permanent\n",
    "Income and Pricing. *Review of Economic Studies* 66 (4):873-907.\n",
    "\n",
    "Hansen, Lars Peter, John C. Heaton, and Nan Li. 2008. Consumption Strikes Back?:\n",
    "Measuring Long Run Risk. *Journal of Political Economy*."
   ]
  }
 ],
 "metadata": {
  "kernelspec": {
   "display_name": "Python 3",
   "language": "python",
   "name": "python3"
  },
  "language_info": {
   "codemirror_mode": {
    "name": "ipython",
    "version": 3
   },
   "file_extension": ".py",
   "mimetype": "text/x-python",
   "name": "python",
   "nbconvert_exporter": "python",
   "pygments_lexer": "ipython3",
   "version": "3.7.1"
  }
 },
 "nbformat": 4,
 "nbformat_minor": 2
}
