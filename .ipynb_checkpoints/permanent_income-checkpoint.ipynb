{
 "cells": [
  {
   "cell_type": "markdown",
   "metadata": {},
   "source": [
    "# Permanent Income Model\n",
    "\n",
    "## Overview\n",
    "\n",
    "__This notebook displays three models and solutions with capital and endogenously determined long-run risk.  The models are considered in each of the three sections of this notebook and include:__\n",
    "\n",
    "__1. Adjustment cost__\n",
    "\n",
    "__2. Permanent income__\n",
    "\n",
    "__3. Habit persistance__\n",
    "\n",
    "__The first is an AK model with adjustment costs inspired in part by Eberly and Wong but includes a persistence process for technology.  The second is a version of Friedman's permanent income model, and the third one extends this to include habit persistence preferences motivated by the work of Hansen, Sargent Tallarini.__\n",
    "\n",
    "*This Notebook illustrates the impulse responses and robustness with respect to Friedman's permanent income model in \"Robust social planner with a single capital stock: notes\" (\"notes\" for reference). The Notebook has four sections:*\n",
    "\n",
    "*1. Impulse responses of logarithm of non-financial income and consumption*\n",
    "\n",
    "*2. Impulse responses of logarithm of consumption*\n",
    "\n",
    "*3. Present value responses log consumption/income ratio*\n",
    "\n",
    "*4. Robustness*"
   ]
  },
  {
   "cell_type": "markdown",
   "metadata": {},
   "source": [
    "## Section 2: Permanent Income"
   ]
  },
  {
   "cell_type": "markdown",
   "metadata": {},
   "source": [
    "### Section 2.1: Impulse responses of log income"
   ]
  },
  {
   "cell_type": "markdown",
   "metadata": {},
   "source": [
    "We evaluate first-order approximation for consumption at a logarithm of the non-financial income process {$Y_{t}$} adapted from Hansen et al. (1999). In the paper, there are two components of the logarithm of non-financial income, one more persistent than the other. To construct the first component, let\n",
    "\n",
    "\\begin{equation*}\n",
    " X^{1}_{1,t+1} = .704X^{1}_{1,t} + \\begin{bmatrix} .144 & 0 \\end{bmatrix} W_{t+1}\n",
    "\\end{equation*}\n",
    "\n",
    "and get $Y^{1}_{1,t+1} = Y^{1}_{t} + X^{1}_{1,t+1}$. For the second component, let\n",
    "\n",
    "\\begin{equation*}\n",
    " X^{1}_{2,t+1} = X^{1}_{2,t} - .154 X^{1}_{2,t-1} + \\begin{bmatrix} 0 & .206 \\end{bmatrix} W_{t+1}\n",
    "\\end{equation*}\n",
    "\n",
    "and get $Y^{1}_{2,t+1} = X^{1}_{2,t+1}$. Let $Y^{1}_{t+1} = (.01)Y^{1}_{1,t+1} + (.01)Y^{1}_{2,t+1}$. In this case {$Y^{1}_{t}$} process is an additive functional. \n",
    "\n",
    "We set the asset return $\\rho = .00663$ and the constant in the logarithm of income process $\\nu = .00373$. We assume that\n",
    "\n",
    "$$\\exp(-\\delta + \\rho - \\nu) = 1$$\n",
    "\n",
    "and thus $\\delta = \\rho - \\nu$. Both innovation standard deviations are scaled by $1.33$ to achieve to achieve the target consumption growth rate volatility (log differences multiplied by 100). We plot the impulse responses of log income to the permanent and transitory shock processes. Top panel in <font color='green'>green</font> is the impulse response for the permanent shock. Bottom panel in <font color='blue'>blue</font> is the response for the transitory shock. "
   ]
  },
  {
   "cell_type": "code",
   "execution_count": 1,
   "metadata": {},
   "outputs": [
    {
     "data": {
      "text/plain": [
       "<matplotlib.figure.Figure at 0x227c2106b70>"
      ]
     },
     "metadata": {},
     "output_type": "display_data"
    }
   ],
   "source": [
    "# Import packages\n",
    "import numpy as np\n",
    "import matplotlib.pyplot as plt\n",
    "from permanent_income_code import *\n",
    "\n",
    "# Parameters\n",
    "T = 2000        # Time horizon\n",
    "S = 2           # Impulse date\n",
    "ρ = 0.00663     # rate of return on assets\n",
    "ν = 0.00373     # constant in the log income process\n",
    "σ1 = 0.108*1.33 # Permanent shock\n",
    "σ2 = 0.155*1.33 # Transitory shock\n",
    "\n",
    "\n",
    "# Compute income responses\n",
    "Y1, Y2 = income_path(T=T, S=S, sigma1=σ1, sigma2=σ2)\n",
    "\n",
    "\n",
    "# Plot income responses\n",
    "fig, axes = plt.subplots(2, 1,figsize=(8,8))\n",
    "plt.subplots_adjust(hspace=0.5)\n",
    "p_args = {'lw': 2, 'alpha': 0.7}\n",
    "\n",
    "L = 0.6\n",
    "\n",
    "for ax in axes:\n",
    "    ax.grid(alpha=0.5)\n",
    "    ax.set_xlim(0,40)\n",
    "    ax.set_xlabel(r'Quarters')\n",
    "    ax.set_ylim(0, L)\n",
    "\n",
    "    \n",
    "ax = axes[0]\n",
    "ax.plot(list(range(T)), Y1[S:], 'g-', **p_args) \n",
    "\n",
    "ax = axes[1]\n",
    "ax.plot(list(range(T)), Y2[S:], 'b-', **p_args)\n",
    "\n",
    "plt.show()"
   ]
  },
  {
   "cell_type": "markdown",
   "metadata": {},
   "source": [
    "### Section 2.2: Impulse responses of log consumption"
   ]
  },
  {
   "cell_type": "markdown",
   "metadata": {},
   "source": [
    "Next, we plot the impulse responses of the log consumption process {$C_{t}+Y_{t}$}. We first express the log consumption-income ratio process {$C_{t}$} in terms of {$X_t$} explicitly. From \"notes\", we have\n",
    "\n",
    "\\begin{equation}\n",
    "\\tag{1}\n",
    "\\label{1}\n",
    " Y^{1}_{t+1} - Y^{1}_{t} = \\mathbb{D}_{y} \\cdot X_t + \\mathbb{F}_{y} \\cdot W_{t+1}\n",
    "\\end{equation}\n",
    "\n",
    "and\n",
    "\n",
    "\n",
    "\\begin{equation}\n",
    "\\tag{2}\n",
    "\\label{2}\n",
    "X_{t+1} = \\mathbb{A}_{x}X_{t} + \\mathbb{B}_{x}W_{t+1} \n",
    "\\end{equation}\n",
    "\n",
    "The first-order approximation for the financial income {$K^{1}_{t}$} in terms of {$C^{1}_{t}$} is\n",
    "\n",
    "\\begin{equation}\n",
    "\\tag{3}\n",
    "\\label{3}\n",
    "K^{1}_{t+1} = \\exp(\\rho - \\nu) K^{1}_{t} - \\exp(-\\nu) C^{1}_{t}\n",
    "\\end{equation}\n",
    "\n",
    "\n",
    "We can express the approximation to the log consumption-income ratio with the planner's two income sources: financial income and non-financial income,\n",
    "\n",
    "\\begin{equation}\n",
    "\\tag{4}\n",
    "\\label{4}\n",
    "C^{1}_{t} = \\frac{\\exp(\\nu)(1-\\lambda)}{\\lambda} K^{1}_{t} + \\sum^{\\infty}_{j=1} \\lambda^{j} E(Y^{1}_{t+j} - Y^{1}_{t+j-1} \\vert \\mathcal{F}_t)\n",
    "\\end{equation}\n",
    "\n",
    "where $\\lambda = \\exp(\\nu - \\rho)$. Solving the geometric series with equations (\\ref{1}) and (\\ref{2}), the non-financial income contribution to the log consumption-income ratio can be expressed as\n",
    "\n",
    "\\begin{equation}\n",
    "\\tag{5}\n",
    "\\label{5}\n",
    "\\sum^{\\infty}_{j=1} \\lambda^{j} E(Y^{1}_{t+j} - Y^{1}_{t+j-1} \\vert \\mathcal{F}_t) = \\lambda \\mathbb{D}_{y}^{T} (I - \\lambda A_{x})^{-1} X_{t} = MX_{t}\n",
    "\\end{equation}\n",
    "\n",
    "Plug equations (\\ref{5}) and (\\ref{3}) into equation (\\ref{4}) and re-arrange the terms, we get the explicit expression of {$K^{1}_{t}$} as an additive functional in terms of {$X_{t}$}:\n",
    "\n",
    "\\begin{equation}\n",
    "\\tag{6}\n",
    "\\label{6}\n",
    "K^{1}_{t+1} - K^{1}_{t} = -\\exp(-\\nu) M X_{t}\n",
    "\\end{equation}\n",
    "\n",
    "And from (\\ref{4}) and (\\ref{6}), we get\n",
    "\n",
    "\\begin{equation}\n",
    "\\tag{7}\n",
    "\\label{7}\n",
    "C^{1}_{t+1} - C^{1}_{t} = [\\exp(\\rho) - \\exp(\\nu)] (K^{1}_{t+1} - K^{1}_{t}) + M(X_{t+1} - X_{t}) = MX_{t+1} - \\exp(\\rho - \\nu) X_{t}\n",
    "\\end{equation}\n",
    "\n",
    "which expresses the log income-consumption ratio {$C^{1}_{t}$} in terms of {$X^{1}_{t}$}. Adding {$C^{1}_{t}$} to the log non-financial income process {$Y^{1}_{t}$}, we obtain the log consumption process {$C^{1}_{t} + Y^{1}_{t}$}."
   ]
  },
  {
   "cell_type": "code",
   "execution_count": 2,
   "metadata": {},
   "outputs": [
    {
     "data": {
      "image/png": "[encoded data removed]",
      "text/plain": [
       "<matplotlib.figure.Figure at 0x227dc025b70>"
      ]
     },
     "metadata": {
      "needs_background": "light"
     },
     "output_type": "display_data"
    }
   ],
   "source": [
    "# =============================================================================\n",
    "# 2.3： Impulse response -- C + Y\n",
    "# =============================================================================\n",
    "# Comp\n",
    "λ = np.exp(ν - ρ)\n",
    "D = np.array([[0.704],[0],[-0.154]])\n",
    "A = np.array([[0.704,0,0],[0,1,-0.154],[0,1,0]])\n",
    "M = λ * np.matmul(D.T, np.linalg.inv(np.identity(A.shape[0]) - λ*A))\n",
    "M = M.flatten()\n",
    "T = 2000        # Time horizon\n",
    "S = 2           # Impulse date\n",
    "ρ = 0.00663     # rate of return on assets\n",
    "ν = 0.00373     # constant in the log income process\n",
    "σ1 = 0.108*1.33 # Permanent shock\n",
    "σ2 = 0.155*1.33 # Transitory shock\n",
    "\n",
    "C1, C2 = consumption_income_ratio_path(M, \n",
    "                                       T=T, \n",
    "                                       S=S, \n",
    "                                       rho=ρ, \n",
    "                                       nu=ν,\n",
    "                                       sigma1=σ1, \n",
    "                                       sigma2=σ2)\n",
    "C1Y1 = C1 + Y1\n",
    "C2Y2 = C2 + Y2\n",
    "\n",
    "\n",
    "fig, axes = plt.subplots(2, 1,figsize=(8,8))\n",
    "plt.subplots_adjust(hspace=0.5)\n",
    "p_args = {'lw': 2, 'alpha': 0.7}\n",
    "\n",
    "L = 0.6\n",
    "\n",
    "for ax in axes:\n",
    "    ax.grid(alpha=0.5)\n",
    "    ax.set_xlim(0,40)\n",
    "    ax.set_xlabel(r'Quarters')\n",
    "    ax.set_ylim(0, L)\n",
    "\n",
    "ax = axes[0]\n",
    "ax.plot(list(range(T)), C1Y1[S:], 'g-', **p_args)\n",
    "\n",
    "ax = axes[1]\n",
    "ax.plot(list(range(T)), C2Y2[S:], 'b-', **p_args)\n",
    "\n",
    "plt.show()"
   ]
  },
  {
   "cell_type": "markdown",
   "metadata": {},
   "source": [
    "The responses of consumption to shocks are both constant across horizons. This is aligned with the first-order approximation to the Euler equation:\n",
    "\n",
    "\\begin{equation}\n",
    "E[C^{1}_{t+1} + Y^{1}_{t+1} \\vert \\mathcal{F}_t] = C^{1}_{t} + Y^{1}_{t}\n",
    "\\end{equation}\n",
    "\n",
    "The two consumption responses for the two shocks are:\n"
   ]
  },
  {
   "cell_type": "code",
   "execution_count": 3,
   "metadata": {},
   "outputs": [
    {
     "name": "stdout",
     "output_type": "stream",
     "text": [
      "Permanent shock = 0.482\n",
      "Transitory shock = 0.00383\n"
     ]
    }
   ],
   "source": [
    "# Print the values of the two responses\n",
    "print('Permanent shock = %.3g' % C1Y1[-1])\n",
    "print('Transitory shock = %.3g' % C2Y2[-1])"
   ]
  },
  {
   "cell_type": "markdown",
   "metadata": {},
   "source": [
    "### Section 2.3: Present value responses of log consumption/income ratio"
   ]
  },
  {
   "cell_type": "markdown",
   "metadata": {},
   "source": [
    "We plot the discounted cumulative sum for the impulse reponses of log consumption/income ratio {$C^{1}_{t}$}. We discount the impulse response function by $\\lambda$, and thus the present value will be\n",
    "\n",
    "\\begin{equation}\n",
    "\\lim_{T \\to \\infty}\\sum^{T}_{t=0} \\lambda^{t} C^{1}_{t}\n",
    "\\end{equation}\n",
    "\n",
    "The plots below shows the present value responses as $T$ approaches infinity. The infinite discounted sum of the response of $C^{1}_{t}$ to both shocks will converge to zero, and yet the convergence is slow."
   ]
  },
  {
   "cell_type": "code",
   "execution_count": 4,
   "metadata": {
    "scrolled": false
   },
   "outputs": [
    {
     "data": {
      "image/png": "[encoded data removed]",
      "text/plain": [
       "<matplotlib.figure.Figure at 0x227c212a208>"
      ]
     },
     "metadata": {
      "needs_background": "light"
     },
     "output_type": "display_data"
    }
   ],
   "source": [
    "#==============================================================================\n",
    "# Discounted cumulative sum for impulse response of C\n",
    "#==============================================================================\n",
    "n = np.arange(T)\n",
    "lam = λ**n\n",
    "cumsum_C1 = np.cumsum(C1[S:]*lam)\n",
    "cumsum_C2 = np.cumsum(C2[S:]*lam)\n",
    "\n",
    "fig, axes = plt.subplots(2, 1,figsize=(8,8))\n",
    "plt.subplots_adjust(hspace=0.5)\n",
    "p_args = {'lw': 2, 'alpha': 0.7}\n",
    "\n",
    "\n",
    "for ax in axes:\n",
    "    ax.grid(alpha=0.5)\n",
    "    ax.set_xlim(0,T)\n",
    "    ax.plot((0,T),(0,0), 'k--')\n",
    "    ax.set_xlabel(r'Quarters')\n",
    "    \n",
    "    \n",
    "ax = axes[0]\n",
    "ax.plot(list(range(T)), cumsum_C1, 'g-', **p_args)\n",
    "\n",
    "ax = axes[1]\n",
    "ax.plot(list(range(T)), cumsum_C2, 'b-', **p_args)  \n",
    "\n",
    "plt.show()"
   ]
  },
  {
   "cell_type": "markdown",
   "metadata": {},
   "source": [
    "### Section 2.4: Robustness"
   ]
  },
  {
   "cell_type": "markdown",
   "metadata": {},
   "source": [
    "We now add the robustness concern to the model by adding risk sensitivity to the utility function. We characterize an obsetvational equivalence between discount rate $\\delta$ and robustness concern $\\frac{1}{\\xi}$, similar to the construction in Hansen et al. (1999). We assume that\n",
    "\n",
    "\\begin{equation}\n",
    "\\delta = \\rho - \\nu - \\frac{|F_{c} + F_{y}|^{2}}{\\xi}\n",
    "\\end{equation}\n",
    "\n",
    "where $\\delta$ is affine in $\\frac{1}{\\xi}$, $F_{c}$ and $F_{y}$ are respectively permanent and transitory shocks of the log consumption responses {$C^{1}_{t}$}. Below we plot the relation between subjective discount rates $\\delta$ and robustness $\\frac{1}{\\xi}$. The value of $\\frac{1}{\\xi}$ when $\\delta$ reaches zero is $124.80$."
   ]
  },
  {
   "cell_type": "code",
   "execution_count": 5,
   "metadata": {},
   "outputs": [
    {
     "name": "stdout",
     "output_type": "stream",
     "text": [
      "The maximum value of 1/xi: 124.80\n"
     ]
    },
    {
     "data": {
      "image/png": "[encoded data removed]",
      "text/plain": [
       "<matplotlib.figure.Figure at 0x227dc2d7198>"
      ]
     },
     "metadata": {
      "needs_background": "light"
     },
     "output_type": "display_data"
    }
   ],
   "source": [
    "#==============================================================================\n",
    "# Observational Equivalence\n",
    "#==============================================================================\n",
    "# The squared value of Fc + Fy\n",
    "FcFy_sq = (C1Y1[-1]*0.01)**2 + (C2Y2[-1]*0.01)**2\n",
    "\n",
    "# The grid values of 1/ξ\n",
    "s = np.arange(0,1000,0.1)\n",
    "\n",
    "# Subjective discount rate\n",
    "δ = ρ - ν - FcFy_sq*s\n",
    "\n",
    "# The value of 1/ξ where δ is 0\n",
    "max_s = s[np.where(δ > 0)[0][-1]]\n",
    "print(r'The maximum value of 1/xi: %.2f' % max_s)\n",
    "\n",
    "\n",
    "# Plot\n",
    "fig, ax = plt.subplots(figsize=(10,8))\n",
    "plt.subplots_adjust(hspace=0.5)\n",
    "p_args = {'lw': 2, 'alpha': 0.7}\n",
    "ax.set_xlim(0,max_s)\n",
    "ax.set_ylim(0,δ[0])\n",
    "ax.set_xlabel(r'$\\frac{1}{\\xi}$', size='xx-large')\n",
    "ax.set_ylabel(r'$\\delta$', size='xx-large')\n",
    "\n",
    "ax.plot(s, δ)\n",
    "\n",
    "plt.show()"
   ]
  },
  {
   "cell_type": "markdown",
   "metadata": {},
   "source": [
    "## References"
   ]
  },
  {
   "cell_type": "markdown",
   "metadata": {},
   "source": [
    "Hansen, Lars Peter, Thomas Sargent, and Thomas Tallarini. 1999. Robust Permanent\n",
    "Income and Pricing. *Review of Economic Studies* 66 (4):873-907."
   ]
  }
 ],
 "metadata": {
  "kernelspec": {
   "display_name": "Python 3",
   "language": "python",
   "name": "python3"
  },
  "language_info": {
   "codemirror_mode": {
    "name": "ipython",
    "version": 3
   },
   "file_extension": ".py",
   "mimetype": "text/x-python",
   "name": "python",
   "nbconvert_exporter": "python",
   "pygments_lexer": "ipython3",
   "version": "3.7.1"
  }
 },
 "nbformat": 4,
 "nbformat_minor": 2
}
