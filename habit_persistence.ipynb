{
 "cells": [
  {
   "cell_type": "markdown",
   "metadata": {},
   "source": [
    "# Habit persistence\n",
    "\n",
    "## Overview\n",
    "\n",
    "__This notebook displays three models and solutions with capital and endogenously determined long-run risk.  The models are considered in each of the three sections of this notebook and include:__\n",
    "\n",
    "__1. Adjustment cost__\n",
    "\n",
    "__2. Permanent income__\n",
    "\n",
    "__3. Habit persistance__\n",
    "\n",
    "__The first is an AK model with adjustment costs inspired in part by Eberly and Wong but includes a persistence process for technology.  The second is a version of Friedman's permanent income model, and the third one extends this to include habit persistence preferences motivated by the work of Hansen, Sargent Tallarini.__\n",
    "\n",
    "*This Notebook shows the solution strategy of the habit persistence model with HST's specification, addressed in \"Robust social planner with a single capital stock: notes\" (\"notes\" for reference). The notebook has two sections:*\n",
    "\n",
    "*1. Consumption responses for the permanent and transitory shock processes for habit persistent preferences*\n",
    "\n",
    "*2. Robustnes*\n",
    "\n",
    "*Note: To use this notebook, one needs to install `sympy`,  a Python library for symbolic mathematics that can solve system of equations analytically. We use `sympy` here to solve the system dynamics of the habit persistence model. For more information about `sympy`, visit http://docs.sympy.org/latest/tutorial/index.html.*"
   ]
  },
  {
   "cell_type": "code",
   "execution_count": 1,
   "metadata": {},
   "outputs": [],
   "source": [
    "# # Toggle on/off the raw code\n",
    "# from IPython.display import HTML\n",
    "\n",
    "# HTML('''<script>\n",
    "# code_show=true; \n",
    "# function code_toggle() {\n",
    "#  if (code_show){\n",
    "#  $('div.input').hide();\n",
    "#  } else {\n",
    "#  $('div.input').show();\n",
    "#  }\n",
    "#  code_show = !code_show\n",
    "# } \n",
    "# $( document ).ready(code_toggle);\n",
    "# </script>\n",
    "# <form action=\"javascript:code_toggle()\"><input type=\"submit\" value=\"Click here to switch on/off the raw code\"></form>''')"
   ]
  },
  {
   "cell_type": "markdown",
   "metadata": {},
   "source": [
    "## Section 3: Habit Persistance"
   ]
  },
  {
   "cell_type": "markdown",
   "metadata": {},
   "source": [
    "### Section 3.1: Consumption responses under habit persistence"
   ]
  },
  {
   "cell_type": "markdown",
   "metadata": {},
   "source": [
    "In this section, we solve the system dynamics of the habit persistence model and plot the consumption responses. First, we setup the parameters, shocks and figure format, and import functions from the module `habit_persistence_code`. The parameters follow Section 2 of the chapter."
   ]
  },
  {
   "cell_type": "code",
   "execution_count": 2,
   "metadata": {},
   "outputs": [],
   "source": [
    "#==============================================================================\n",
    "# Setup\n",
    "#==============================================================================\n",
    "# Import packages\n",
    "import numpy as np\n",
    "import matplotlib.pyplot as plt\n",
    "from habit_persistence_code2 import *\n",
    "\n",
    "np.set_printoptions(precision=12,suppress=True)"
   ]
  },
  {
   "cell_type": "markdown",
   "metadata": {},
   "source": [
    "To compute consumption responses under habit persistence, we essentially conduct the following steps:\n",
    "\n",
    "1. Calculate parameters and Steady State Values\n",
    "2. Solve $C^{1}_{t}$ and $U^{1}_{t}$ in terms of $Z^{1}_{t}$ and $Z^{1}_{t+1}$\n",
    "3. Solve for matrices $\\mathbb{L}$ and $\\mathbb{J}$ (in this notebook I use $\\mathbb{L} = I$ and solve for $\\mathbb{J}$)\n",
    "4. Compute $\\mathbb{N}_{11}$ and $\\mathbb{N}_{12}$\n",
    "5. Compute the stable dynamic matrix $\\mathbb{A}$\n",
    "6. Perform the two checks: (1) the matrix multiplication is zero (2) eigenvalues of $\\mathbb{A}$ coincide with the weakly stable eigenvalues\n",
    "7. Add the shocks back to the $X$ evolution equation\n",
    "8. Compute the consumption response process {$C^{1}_{t} + Y^{1}_{t}$}.\n",
    "\n",
    "More detailed formulas and instructions can be found in \"Solution strategy\" section in \"notes\". Here we provide some equations for reference in the codes:\n",
    "\n",
    "\\begin{equation}\n",
    "\\tag{1}\n",
    "\\label{1}\n",
    "K^{1}_{t+1} = \\exp(\\rho - \\nu) K^{1}_{t} - \\exp(-\\nu) C^{1}_{t}\n",
    "\\end{equation}\n",
    "\n",
    "\\begin{equation}\n",
    "\\tag{2}\n",
    "\\label{2}\n",
    "H^{1}_{t+1} = \\exp(-\\psi - \\nu) H^{1}_{t} - [1 - \\exp(-\\nu - \\psi)] C^{1}_{t} - Y_{t+1} + Y_{t}\n",
    "\\end{equation}\n",
    "\n",
    "\\begin{equation}\n",
    "\\tag{3}\n",
    "\\label{3}\n",
    "U^{1}_{t} = (1-\\alpha) \\exp[(\\eta - 1)(\\bar{u} - \\bar{c})] C^{1}_{t} + \\alpha \\exp[(\\eta - 1)(\\bar{u} - \\bar{h})] H^{1}_{t}\n",
    "\\end{equation}\n",
    "\n",
    "\\begin{equation}\n",
    "\\tag{4}\n",
    "\\label{4}\n",
    "\\exp(-\\delta - \\psi - \\nu + \\overline{mh})E[MH^{1}_{t+1} + Y^{1}_{t} - Y^{1}_{t+1} | \\mathcal{F}_{t}] = \\exp(\\overline{mh})MH^{1}_{t} - \\alpha \\exp[(\\eta - 1) \\bar{u} - \\eta \\bar{h}] [(\\eta - 1) U^{1}_{t} - \\eta H^{1}_{t}]\n",
    "\\end{equation}\n",
    "\n",
    "\\begin{equation}\n",
    "\\tag{5}\n",
    "\\label{5}\n",
    "(1 - \\alpha) \\exp[(\\eta - 1) \\bar{u} - \\eta \\bar{c}] [(\\eta - 1) U^{1}_{t} - \\eta C^{1}_{t}] = \\exp(-\\delta - \\nu) E\\{\\exp(\\overline{mk}) MK^{1}_{t+1} - [1 - \\exp(-\\psi)] \\exp(\\overline{mh}) MH^{1}_{t+1} | \\mathcal{F}_{t}\\} + \\exp(-\\delta - \\nu) \\{\\exp(\\overline{mk}) - [1 - \\exp(-\\psi)] \\exp(\\overline{mh})\\} E(Y^{1}_{t} - Y^{1}_{t+1} | \\mathcal{F}_{t})\n",
    "\\end{equation}\n",
    "\n",
    "\\begin{equation}\n",
    "\\tag{6}\n",
    "\\label{6}\n",
    "\\exp(-\\delta + \\rho - \\nu) E[MK^{1}_{t+1} + Y^{1}_{t} - Y^{1}_{t+1} | \\mathcal{F}_{t}] = MK^{1}_{t}\n",
    "\\end{equation}\n",
    "\n",
    "We construct two functions to execute the above steps:\n",
    "- (for steps 1 through 6) `solve_habit_persistence` \n",
    "- (for steps 7 and 8) `habit_persistence_consumption_path`\n",
    "\n",
    "We first solve the habit persistence model with function `solve_habit_persistence`, and then we calculate the consumption responses by inputting the model solution into function `habit_persistence_consumption_path`. I will later test to combine these two functions with the default parameters into a `class` object. For now we just keep the functions separately.\n",
    "\n",
    "The parameters that can be changed are in `solve_habit_persistence`:\n",
    "\n",
    "- $\\alpha$: share parameter\n",
    "- $\\psi$: depreciation rate, $0\\leq\\exp(-\\psi)<1$\n",
    "- $\\eta$: elasticity of substitution.\n",
    "\n",
    "The example below provides a standard procedure of how to solve, compute and plot the consumption responses with our choice of parameters. In this example, we set $\\alpha = 0.5$, $\\psi = 0.3$, and $\\eta = 2$. The function `create_fig` to create the plot format for the impulse responses, in which we can control the subplots, size and the time horizon on the x-axis."
   ]
  },
  {
   "cell_type": "markdown",
   "metadata": {},
   "source": [
    "In many cases, we would like to plot out the consumption responses given our choices of one parameter while holding the other two parameters fixed. Here we will create empty lists to store the consumption response paths for each choice of the parameter, and then use a `for` loop to plot out each choice. The examples below are the figures we have on \"notes\":\n",
    "\n",
    "- Consumption responses for $\\alpha = .5$, $\\epsilon = 10, 25, 50, 100$, $\\chi = .9$ (80 periods)"
   ]
  },
  {
   "cell_type": "code",
   "execution_count": 3,
   "metadata": {},
   "outputs": [
    {
     "name": "stdout",
     "output_type": "stream",
     "text": [
      "L\n",
      "[0. 0. 0. 0. 0. 0. 0. 0.]\n",
      "J\n",
      "[ 2.072542559048 -1.020012599892  1.             -0.\n",
      "  0.052529959156 -0.             -0.             -0.            ]\n",
      "L\n",
      "[0. 0. 0. 0. 0. 0. 0. 0.]\n",
      "J\n",
      "[ 0.377343607535 -0.216991121791  1.             -0.\n",
      " -0.839647514255 -0.             -0.             -0.            ]\n",
      "L\n",
      "[0. 0. 0. 0. 0. 0. 0. 0.]\n",
      "J\n",
      "[ 0.159656668751 -0.136420165548  1.             -0.\n",
      " -0.976763496797 -0.             -0.             -0.            ]\n",
      "L\n",
      "[0. 0. 0. 0. 0. 0. 0. 0.]\n",
      "J\n",
      "[ 0.387496536069 -0.37723465747   1.             -0.\n",
      " -0.989738121401 -0.             -0.             -0.            ]\n"
     ]
    },
    {
     "data": {
      "image/png": "[encoded data removed]",
      "text/plain": [
       "<Figure size 576x432 with 2 Axes>"
      ]
     },
     "metadata": {
      "needs_background": "light"
     },
     "output_type": "display_data"
    }
   ],
   "source": [
    "#==============================================================================\n",
    "# Consumption responses for alpha = .5; epsilon = 10, 25, 50, 100; chi = .9\n",
    "#==============================================================================\n",
    "# Set time \n",
    "T = 80 + 1\n",
    "\n",
    "C1Y1_list = []\n",
    "C2Y2_list = []\n",
    "\n",
    "epsilon_list = [.9, 10, 50, 100]\n",
    "\n",
    "\n",
    "for e in epsilon_list:\n",
    "        \n",
    "    J, A, N, Ut, _ = solve_habit_persistence(0.5, -np.log(0.9), e)\n",
    "    \n",
    "    # Append consumption responses to list\n",
    "    CYs, Ys = habit_persistence_consumption_path(A, N, T=T)\n",
    "    C1Y1, C2Y2 = CYs\n",
    "    \n",
    "    C1Y1_list.append(C1Y1)\n",
    "    C2Y2_list.append(C2Y2)  \n",
    "    \n",
    "    # Compute uncertainty price\n",
    "    Sv = get_Sv(J, A, N, Ut)\n",
    "    SvBFy = get_SvBFy(Sv) * 100\n",
    "    SvBFy = [float('%.3g' % x) for x in SvBFy]\n",
    "\n",
    "##== Plot the graphs for the impulse reponses ==##\n",
    "# Define plot attributes\n",
    "\n",
    "## Impulse response plots for consumption\n",
    "fig, axes = plt.subplots(2, 1,figsize=(8,6))\n",
    "plt.subplots_adjust(hspace=0.5)\n",
    "p_args = {'lw': 3}\n",
    "for ax in axes:\n",
    "    ax.set_xlim(0,80)\n",
    "    ax.set_xlabel(r'Quarters', fontsize=15)\n",
    "    ax.tick_params(axis=\"x\", labelsize=12)\n",
    "    ax.tick_params(axis=\"y\", labelsize=12)\n",
    "\n",
    "ax = axes[0]\n",
    "ax.set_ylim(0., 0.71)\n",
    "for n, C1Y1 in enumerate(C1Y1_list):\n",
    "    ax.plot(list(range(T)), C1Y1, **p_args, \n",
    "            label=r'$\\epsilon$ = {}'.format(epsilon_list[n]))\n",
    "    ax.legend(loc='lower right')\n",
    "\n",
    "ax = axes[1]\n",
    "ax.set_ylim(-0.11, 0.51)\n",
    "for n, C2Y2 in enumerate(C2Y2_list):\n",
    "    ax.plot(list(range(T)), C2Y2, **p_args, \n",
    "            label=r'$\\epsilon$ = {}'.format(epsilon_list[n]))\n",
    "    ax.legend(loc='upper right')\n",
    "\n",
    "plt.show()"
   ]
  },
  {
   "cell_type": "code",
   "execution_count": 4,
   "metadata": {},
   "outputs": [],
   "source": [
    "# Export the figure\n",
    "fig.savefig('epsilon_responses.pdf')"
   ]
  },
  {
   "cell_type": "markdown",
   "metadata": {},
   "source": [
    "- Consumption responses for $\\alpha = .1, .3, .5, .7, .9$, $\\epsilon = 50$, $\\chi = .9$ (80 periods)"
   ]
  },
  {
   "cell_type": "code",
   "execution_count": 5,
   "metadata": {},
   "outputs": [
    {
     "name": "stdout",
     "output_type": "stream",
     "text": [
      "L\n",
      "[0. 0. 0. 0. 0. 0. 0. 0.]\n",
      "J\n",
      "[ 0.079937510046 -0.031558760115  1.             -0.\n",
      " -0.951621250069 -0.             -0.             -0.            ]\n",
      "L\n",
      "[0. 0. 0. 0. 0. 0. 0. 0.]\n",
      "J\n",
      "[ 0.096759113155 -0.069240380378  1.             -0.\n",
      " -0.972481267223 -0.             -0.             -0.            ]\n",
      "L\n",
      "[0. 0. 0. 0. 0. 0. 0. 0.]\n",
      "J\n",
      "[ 0.159656668751 -0.136420165548  1.             -0.\n",
      " -0.976763496797 -0.             -0.             -0.            ]\n",
      "L\n",
      "[0. 0. 0. 0. 0. 0. 0. 0.]\n",
      "J\n",
      "[ 0.314404244275 -0.293014548876  1.             -0.\n",
      " -0.978610304602 -0.             -0.             -0.            ]\n",
      "L\n",
      "[0. 0. 0. 0. 0. 0. 0. 0.]\n",
      "J\n",
      "[ 1.096187520759 -1.075826850507  1.             -0.\n",
      " -0.979639329748 -0.             -0.             -0.            ]\n"
     ]
    },
    {
     "data": {
      "image/png": "[encoded data removed]",
      "text/plain": [
       "<Figure size 576x432 with 2 Axes>"
      ]
     },
     "metadata": {
      "needs_background": "light"
     },
     "output_type": "display_data"
    }
   ],
   "source": [
    "#==============================================================================\n",
    "# Consumption responses for alpha = .1, .3, .5, .7, .9; epsilon = 50; chi = .9\n",
    "#==============================================================================\n",
    "# Set time \n",
    "T = 80 + 1\n",
    "\n",
    "C1Y1_list = []\n",
    "C2Y2_list = []\n",
    "\n",
    "alpha_list = [.1, .3, .5, .7, .9]\n",
    "\n",
    "\n",
    "for a in alpha_list:\n",
    "        \n",
    "    J, A, N, Ut, _ = solve_habit_persistence(a, -np.log(0.9), 50)\n",
    "        \n",
    "    # Append consumption responses to list\n",
    "    CYs, Ys = habit_persistence_consumption_path(A, N, T=T)\n",
    "    C1Y1, C2Y2 = CYs\n",
    "    \n",
    "    C1Y1_list.append(C1Y1)\n",
    "    C2Y2_list.append(C2Y2)  \n",
    "\n",
    "##== Plot the graphs for the impulse reponses ==##\n",
    "# Define plot attributes\n",
    "## Impulse response plots for consumption\n",
    "fig, axes = plt.subplots(2, 1,figsize=(8,6))\n",
    "plt.subplots_adjust(hspace=0.5)\n",
    "p_args = {'lw': 3}\n",
    "for ax in axes:\n",
    "    ax.set_xlim(0,80)\n",
    "    ax.set_xlabel(r'Quarters', fontsize=15)\n",
    "    ax.tick_params(axis=\"x\", labelsize=12)\n",
    "    ax.tick_params(axis=\"y\", labelsize=12)\n",
    "\n",
    "ax = axes[0]\n",
    "ax.set_ylim(0., 0.71)\n",
    "for n, C1Y1 in enumerate(C1Y1_list):\n",
    "    ax.plot(list(range(T)), C1Y1, **p_args, \n",
    "            label=r'$\\alpha$ = {}'.format(alpha_list[n]))\n",
    "    ax.legend(loc='lower right')\n",
    "\n",
    "ax = axes[1]\n",
    "ax.set_ylim(-0.11, 0.51)\n",
    "for n, C2Y2 in enumerate(C2Y2_list):\n",
    "    ax.plot(list(range(T)), C2Y2, **p_args, \n",
    "            label=r'$\\alpha$ = {}'.format(alpha_list[n]))\n",
    "    ax.legend(loc='upper right')\n",
    "\n",
    "plt.show()"
   ]
  },
  {
   "cell_type": "code",
   "execution_count": 6,
   "metadata": {},
   "outputs": [],
   "source": [
    "# Export the figure\n",
    "fig.savefig('alpha_responses.pdf')"
   ]
  },
  {
   "cell_type": "markdown",
   "metadata": {},
   "source": [
    "- Consumption responses for $\\alpha = .5$, $\\epsilon = 50$, $\\chi = .6, .8, .9, .95$ (80 periods)"
   ]
  },
  {
   "cell_type": "code",
   "execution_count": 7,
   "metadata": {
    "scrolled": false
   },
   "outputs": [
    {
     "name": "stdout",
     "output_type": "stream",
     "text": [
      "L\n",
      "[0. 0. 0. 0. 0. 0. 0. 0.]\n",
      "J\n",
      "[ 1.168496224745 -0.116019224994  1.             -0.\n",
      "  0.052476999751 -0.             -0.             -0.            ]\n"
     ]
    },
    {
     "data": {
      "image/png": "[encoded data removed]",
      "text/plain": [
       "<Figure size 576x432 with 2 Axes>"
      ]
     },
     "metadata": {
      "needs_background": "light"
     },
     "output_type": "display_data"
    }
   ],
   "source": [
    "#==============================================================================\n",
    "# Consumption responses for alpha = .5; epsilon = 50; chi = .4, .8, 1.6, 2.4\n",
    "#==============================================================================\n",
    "# Set time \n",
    "T = 80 + 1\n",
    "\n",
    "C1Y1_list = []\n",
    "C2Y2_list = []\n",
    "\n",
    "chi_list = [.4]\n",
    "\n",
    "\n",
    "for c in chi_list:\n",
    "        \n",
    "    J, A, N, Ut, _ = solve_habit_persistence(0.1, -np.log(c), .5)\n",
    "    \n",
    "    # Append consumption responses to list\n",
    "    CYs, Ys = habit_persistence_consumption_path(A, N, T=T)\n",
    "    C1Y1, C2Y2 = CYs\n",
    "    \n",
    "    C1Y1_list.append(C1Y1)\n",
    "    C2Y2_list.append(C2Y2)  \n",
    "\n",
    "##== Plot the graphs for the impulse reponses ==##\n",
    "# Define plot attributes\n",
    "## Impulse response plots for consumption\n",
    "fig, axes = plt.subplots(2, 1,figsize=(8,6))\n",
    "plt.subplots_adjust(hspace=0.5)\n",
    "p_args = {'lw': 3}\n",
    "for ax in axes:\n",
    "    ax.set_xlim(0,80)\n",
    "    ax.set_xlabel(r'Quarters', fontsize=15)\n",
    "    ax.tick_params(axis=\"x\", labelsize=12)\n",
    "    ax.tick_params(axis=\"y\", labelsize=12)\n",
    "\n",
    "ax = axes[0]\n",
    "#ax.set_ylim(0.480, .530)\n",
    "for n, C1Y1 in enumerate(C1Y1_list):\n",
    "    ax.plot(list(range(T)), C1Y1, **p_args, \n",
    "            label=r'$\\chi$ = {}'.format(chi_list[n]))\n",
    "    ax.legend(loc='upper right')\n",
    "\n",
    "ax = axes[1]\n",
    "#ax.set_ylim(-0.01, 0.05)\n",
    "for n, C2Y2 in enumerate(C2Y2_list):\n",
    "    ax.plot(list(range(T)), C2Y2, **p_args, \n",
    "            label=r'$\\chi$ = {}'.format(chi_list[n]))\n",
    "    ax.legend(loc='upper right')\n",
    "\n",
    "plt.show()"
   ]
  },
  {
   "cell_type": "code",
   "execution_count": 8,
   "metadata": {},
   "outputs": [
    {
     "data": {
      "text/plain": [
       "[array([0.14364       , 0.24476256    , 0.31595284224 , 0.366070800937,\n",
       "        0.40135384386 , 0.426193106077, 0.443679946678, 0.455990682462,\n",
       "        0.464657440453, 0.470758838079, 0.475054222008, 0.478078172293,\n",
       "        0.480207033294, 0.481705751439, 0.482760849013, 0.483503637705,\n",
       "        0.484026560945, 0.484394698905, 0.484653868029, 0.484836323092,\n",
       "        0.484964771457, 0.485055199106, 0.48511886017 , 0.48516367756 ,\n",
       "        0.485195229002, 0.485217441218, 0.485233078617, 0.485244087346,\n",
       "        0.485251837492, 0.485257293594, 0.48526113469 , 0.485263838822,\n",
       "        0.485265742531, 0.485267082742, 0.48526802625 , 0.48526869048 ,\n",
       "        0.485269158098, 0.485269487301, 0.48526971906 , 0.485269882218,\n",
       "        0.485269997082, 0.485270077945, 0.485270134874, 0.485270174951,\n",
       "        0.485270203166, 0.485270223029, 0.485270237012, 0.485270246857,\n",
       "        0.485270253787, 0.485270258666, 0.485270262101, 0.485270264519,\n",
       "        0.485270266221, 0.48527026742 , 0.485270268264, 0.485270268858,\n",
       "        0.485270269276, 0.48527026957 , 0.485270269777, 0.485270269923,\n",
       "        0.485270270026, 0.485270270098, 0.485270270149, 0.485270270185,\n",
       "        0.48527027021 , 0.485270270228, 0.485270270241, 0.485270270249,\n",
       "        0.485270270256, 0.48527027026 , 0.485270270263, 0.485270270265,\n",
       "        0.485270270267, 0.485270270268, 0.485270270268, 0.485270270269,\n",
       "        0.485270270269, 0.48527027027 , 0.48527027027 , 0.48527027027 ,\n",
       "        0.48527027027 ]),\n",
       " array([0.20615       , 0.20615       , 0.1744029     , 0.1426558     ,\n",
       "        0.1157977534  , 0.0938287602  , 0.075995906176, 0.061546277106,\n",
       "        0.049842907554, 0.04036478088 , 0.032688973117, 0.026472796861,\n",
       "        0.021438695001, 0.017361884285, 0.014060325254, 0.011386595075,\n",
       "        0.009221304985, 0.007467769344, 0.006047688376, 0.004897651897,\n",
       "        0.003966307887, 0.003212069495, 0.00260125808 , 0.002106599378,\n",
       "        0.001706005634, 0.00138158933 , 0.001118864462, 0.000906099705,\n",
       "        0.000733794578, 0.000594255223, 0.000481250858, 0.000389735554,\n",
       "        0.000315622922, 0.000255603647, 0.000206997717, 0.000167634755,\n",
       "        0.000135757107, 0.000109941354, 0.00008903476 , 0.000072103791,\n",
       "        0.000058392438, 0.000047288454, 0.000038296019, 0.000031013597,\n",
       "        0.00002511601 , 0.000020339916, 0.000016472051, 0.000013339703,\n",
       "        0.000010803008, 0.000008748693, 0.00000708503 , 0.000005737731,\n",
       "        0.000004646637, 0.000003763026, 0.000003047444, 0.000002467938,\n",
       "        0.000001998632, 0.000001618569, 0.00000131078 , 0.00000106152 ,\n",
       "        0.00000085966 , 0.000000696186, 0.000000563798, 0.000000456586,\n",
       "        0.000000369761, 0.000000299447, 0.000000242503, 0.000000196389,\n",
       "        0.000000159043, 0.000000128799, 0.000000104307, 0.000000084472,\n",
       "        0.000000068408, 0.0000000554  , 0.000000044865, 0.000000036333,\n",
       "        0.000000029424, 0.000000023829, 0.000000019297, 0.000000015628,\n",
       "        0.000000012656])]"
      ]
     },
     "execution_count": 8,
     "metadata": {},
     "output_type": "execute_result"
    }
   ],
   "source": [
    "Ys"
   ]
  },
  {
   "cell_type": "code",
   "execution_count": 9,
   "metadata": {},
   "outputs": [],
   "source": [
    "# Export the figure\n",
    "fig.savefig('chi_responses.pdf')"
   ]
  },
  {
   "cell_type": "markdown",
   "metadata": {},
   "source": [
    "### Section 3.2: Robustness"
   ]
  },
  {
   "cell_type": "markdown",
   "metadata": {},
   "source": [
    "Next we add in a concern about robustness as in Hansen et al. (1999). Represent:\n",
    "\n",
    "\\begin{equation}\n",
    "Y^{1}_{t+1} - Y^{1}_{t} = \\mathbb{S}_y \\cdot X_{t} + \\mathbb{F}_y \\cdot W_{t+1}\n",
    "\\end{equation}\n",
    "\n",
    "\\begin{equation}\n",
    "U^{1}_{t} = \n",
    "\\mathbb{S}_{u} \\cdot \n",
    "\\begin{bmatrix}\n",
    "K^{1}_{t} \\\\\n",
    "H^{1}_{t} \\\\\n",
    "X_{t}\n",
    "\\end{bmatrix}\n",
    "\\end{equation}\n",
    "\n",
    "\\begin{equation}\n",
    "V^{1}_{t} - Y^{1}_{t} = \n",
    "\\mathbb{S}_{v} \\cdot \n",
    "\\begin{bmatrix}\n",
    "K^{1}_{t} \\\\\n",
    "H^{1}_{t} \\\\\n",
    "X_{t}\n",
    "\\end{bmatrix}\n",
    "+ s_{v}\n",
    "\\end{equation}\n",
    "\n",
    "where $\\mathbb{S}_{u}$ comes from the model solution using `solve_habit_persistence`. Specifically, we do the following:\n",
    "\n",
    "1. Get $U^{1}_{t}$ from the model solution and express it in terms of $Z$\n",
    "2. Express the co-state expressions $MK^{1}_{t}$ and $MH^{1}_{t}$ in $U^{1}_{t}$ in terms of the states $K^{1}_{t}$, $H^{1}_{t}$, $X_{t}$\n",
    "3. Collecting terms to get $U^{1}_{t}$ in terms of $K^{1}_{t}$, $H^{1}_{t}$, $X_{t}$\n",
    "\n",
    "Next, we compute $\\mathbb{S}_{v}$ as in Hansen et al. (2008)\n",
    "\n",
    "\\begin{equation}\n",
    "(\\mathbb{S}_{v})' = \n",
    "[1 - \\exp(-\\delta)] (\\mathbb{S}_{u})' + \n",
    "\\exp(-\\delta) [(\\mathbb{S}_{v})'\\mathbb{A} + \n",
    "\\begin{bmatrix}\n",
    "0 & 0 & (\\mathbb{S}_y)'\n",
    "\\end{bmatrix}]\n",
    "\\end{equation}\n",
    "\n",
    "The above procedures can be done through the function `get_Sv`. The function uses the inputs from `solve_habit_persistence` to solve for $\\mathbb{S}_{v}$."
   ]
  },
  {
   "cell_type": "markdown",
   "metadata": {},
   "source": [
    "We also solve $s_{v}$, \n",
    "\n",
    "\\begin{equation}\n",
    "s_{v} = \\exp(-\\delta)[s_{v} - \\frac{\\xi}{2}|(\\mathbb{S}_{v})'\\mathbb{B} + \\mathbb{S}_{y})'\\mathbb{B}_x|^{2}]\n",
    "\\end{equation}\n",
    "\n",
    "and the uncertainty price vector \n",
    "\n",
    "\\begin{equation}\n",
    "(\\mathbb{S}_{v})'\\mathbb{B} + F_{y}\n",
    "\\end{equation}\n",
    "\n",
    "with functions `solve_sv` and `get_SvBFy` respectively. \n",
    "Now, we test the example that we used in \"notes\": $(\\alpha, \\eta, \\psi) = (.1, 100, 1.6)$:"
   ]
  },
  {
   "cell_type": "markdown",
   "metadata": {},
   "source": [
    "## References"
   ]
  },
  {
   "cell_type": "markdown",
   "metadata": {},
   "source": [
    "Hansen, Lars Peter and Thomas J. Sargent. 2008. *Robustness*. Princeton, New Jersey:\n",
    "Princeton University Press.\n",
    "\n",
    "Hansen, Lars Peter, William Roberds, and Thomas J. Sargent. 1991. Time Series Im-\n",
    "plications of Present Value Budget Balance and of Martingale Models of Consumption\n",
    "and Taxes. *In Rational Expectations Econometrics*, edited by Lars Peter Hansen and\n",
    "Thomas J. Sargent, chap. 5. Boulder, Colorado: Westview Press.\n",
    "\n",
    "Hansen, Lars Peter, Thomas Sargent, and Thomas Tallarini. 1999. Robust Permanent\n",
    "Income and Pricing. *Review of Economic Studies* 66 (4):873-907.\n",
    "\n",
    "Hansen, Lars Peter, John C. Heaton, and Nan Li. 2008. Consumption Strikes Back?:\n",
    "Measuring Long Run Risk. *Journal of Political Economy*."
   ]
  }
 ],
 "metadata": {
  "kernelspec": {
   "display_name": "Python 3",
   "language": "python",
   "name": "python3"
  },
  "language_info": {
   "codemirror_mode": {
    "name": "ipython",
    "version": 3
   },
   "file_extension": ".py",
   "mimetype": "text/x-python",
   "name": "python",
   "nbconvert_exporter": "python",
   "pygments_lexer": "ipython3",
   "version": "3.7.1"
  }
 },
 "nbformat": 4,
 "nbformat_minor": 2
}
